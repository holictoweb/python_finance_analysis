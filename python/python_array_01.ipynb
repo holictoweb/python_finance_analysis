{
  "nbformat": 4,
  "nbformat_minor": 0,
  "metadata": {
    "colab": {
      "name": "python_array_01.ipynb",
      "provenance": [],
      "collapsed_sections": [],
      "authorship_tag": "ABX9TyNJlKtJy+C8MCBeFHwARRaq",
      "include_colab_link": true
    },
    "kernelspec": {
      "name": "python3",
      "display_name": "Python 3"
    },
    "language_info": {
      "name": "python"
    }
  },
  "cells": [
    {
      "cell_type": "markdown",
      "metadata": {
        "id": "view-in-github",
        "colab_type": "text"
      },
      "source": [
        "<a href=\"https://colab.research.google.com/github/holictoweb/python_finance_analysis/blob/master/python/python_array_01.ipynb\" target=\"_parent\"><img src=\"https://colab.research.google.com/assets/colab-badge.svg\" alt=\"Open In Colab\"/></a>"
      ]
    },
    {
      "cell_type": "code",
      "metadata": {
        "id": "MdKK8Dbt-6AO"
      },
      "source": [
        ""
      ],
      "execution_count": null,
      "outputs": []
    },
    {
      "cell_type": "markdown",
      "metadata": {
        "id": "dHe9b96N9GJh"
      },
      "source": [
        "## dictionary"
      ]
    },
    {
      "cell_type": "code",
      "metadata": {
        "colab": {
          "base_uri": "https://localhost:8080/"
        },
        "id": "3MV2A38Q9Frk",
        "outputId": "9a605093-3650-4d81-c7b9-92182ba07164"
      },
      "source": [
        "x = {1: 2, 3: 4, 4: 3, 2: 1, 0: 0}\n",
        "{k: v for k, v in sorted(x.items(), key=lambda item: item[1])}\n"
      ],
      "execution_count": null,
      "outputs": [
        {
          "output_type": "execute_result",
          "data": {
            "text/plain": [
              "{0: 0, 1: 2, 2: 1, 3: 4, 4: 3}"
            ]
          },
          "metadata": {
            "tags": []
          },
          "execution_count": 5
        }
      ]
    },
    {
      "cell_type": "code",
      "metadata": {
        "id": "Ds52VuUlRccB",
        "colab": {
          "base_uri": "https://localhost:8080/"
        },
        "outputId": "b087dd09-27c3-4261-b1e1-1e8909dedd2e"
      },
      "source": [
        "# value 기준으로 sort\n",
        "dict1 = {1: 1, 2: 9, 3: 4}\n",
        "sorted_values = sorted(dict1.values()) # Sort the values\n",
        "\n",
        "print(sorted_values)\n",
        "sorted_dict = {}\n",
        "\n",
        "# value 기준으로 sort 한 결과 list 기준으로 key 값을 찾아서 순서 변경 \n",
        "for i in sorted_values:\n",
        "    for k in dict1.keys():\n",
        "        if dict1[k] == i:\n",
        "            sorted_dict[k] = dict1[k]\n",
        "            break\n",
        "\n",
        "print(sorted_dict)"
      ],
      "execution_count": null,
      "outputs": [
        {
          "output_type": "stream",
          "text": [
            "[1, 4, 9]\n",
            "{1: 1, 3: 4, 2: 9}\n"
          ],
          "name": "stdout"
        }
      ]
    },
    {
      "cell_type": "code",
      "metadata": {
        "colab": {
          "base_uri": "https://localhost:8080/"
        },
        "id": "_wFacy12JJsf",
        "outputId": "f9653eda-64ed-4fb3-f423-7790937e9f30"
      },
      "source": [
        "dict1 = {1: 1, 2: 9, 3: 4}\n",
        "sorted_dict = {}\n",
        "sorted_keys = sorted(dict1, key=dict1.get)  # [1, 3, 2]\n",
        "\n",
        "print(sorted_keys)\n",
        "\n",
        "for w in sorted_keys:\n",
        "    sorted_dict[w] = dict1[w]\n",
        "\n",
        "print(sorted_dict) # {1: 1, 3: 4, 2: 9}"
      ],
      "execution_count": null,
      "outputs": [
        {
          "output_type": "stream",
          "text": [
            "[1, 3, 2]\n",
            "{1: 1, 3: 4, 2: 9}\n"
          ],
          "name": "stdout"
        }
      ]
    },
    {
      "cell_type": "code",
      "metadata": {
        "colab": {
          "base_uri": "https://localhost:8080/"
        },
        "id": "g2ybl1-HKCx0",
        "outputId": "8940a1d1-9cfc-49df-f152-1a33437b3195"
      },
      "source": [
        "dict1 = {1: 1, 2: 9, 3: 4}\n",
        "sorted_dict = {}\n",
        "sorted_keys = sorted(dict1, key=dict1.get)\n",
        "print(sorted_keys)\n",
        "\n",
        "sorted_keys.reverse()\n",
        "print(sorted_keys )"
      ],
      "execution_count": null,
      "outputs": [
        {
          "output_type": "stream",
          "text": [
            "[1, 3, 2]\n",
            "[2, 3, 1]\n"
          ],
          "name": "stdout"
        }
      ]
    },
    {
      "cell_type": "markdown",
      "metadata": {
        "id": "cJkbopWURdEF"
      },
      "source": [
        "group by"
      ]
    },
    {
      "cell_type": "code",
      "metadata": {
        "colab": {
          "base_uri": "https://localhost:8080/"
        },
        "id": "8pJeLsA2WgaD",
        "outputId": "120bd8a2-1762-43be-9a98-2a48c78255da"
      },
      "source": [
        "## count \n",
        "\n",
        "import itertools\n",
        "text=\"CCCCCCCCCCCCCBBBCCBBBBBBBBBBBCCCCCCCCCCCCCCCCBCCC\"\n",
        "b_counts = []\n",
        "for group, items in itertools.groupby(text):\n",
        "  if group == \"B\":\n",
        "    b_counts.append(len(list(items)))\n",
        "\n",
        "b_counts\n"
      ],
      "execution_count": null,
      "outputs": [
        {
          "output_type": "execute_result",
          "data": {
            "text/plain": [
              "[3, 11, 1]"
            ]
          },
          "metadata": {
            "tags": []
          },
          "execution_count": 18
        }
      ]
    },
    {
      "cell_type": "code",
      "metadata": {
        "colab": {
          "base_uri": "https://localhost:8080/"
        },
        "id": "SRMhMFTSTIy4",
        "outputId": "cc541fd6-017e-4e0f-e7e8-4c5bb298d074"
      },
      "source": [
        "from itertools import groupby\n",
        "for group, items in groupby('aabbbccdddeeaa'): \n",
        "  print (group, list(items) ) \n",
        "\n",
        "\n",
        "print('-------------------------------------')\n",
        "\n",
        "for group, items in groupby('aaAaAAbBbcCdDdDeE', lambda x: x.lower()): \n",
        "  print(group, list(items) )\n"
      ],
      "execution_count": null,
      "outputs": [
        {
          "output_type": "stream",
          "text": [
            "a ['a', 'a']\n",
            "b ['b', 'b', 'b']\n",
            "c ['c', 'c']\n",
            "d ['d', 'd', 'd']\n",
            "e ['e', 'e']\n",
            "a ['a', 'a']\n",
            "-------------------------------------\n",
            "a ['a', 'a', 'A', 'a', 'A', 'A']\n",
            "b ['b', 'B', 'b']\n",
            "c ['c', 'C']\n",
            "d ['d', 'D', 'd', 'D']\n",
            "e ['e', 'E']\n"
          ],
          "name": "stdout"
        }
      ]
    },
    {
      "cell_type": "code",
      "metadata": {
        "colab": {
          "base_uri": "https://localhost:8080/"
        },
        "id": "pxcS6tUDRaw7",
        "outputId": "00382931-0270-4ffa-81c2-30740db088fa"
      },
      "source": [
        "from itertools import groupby\n",
        "st = list('AAAABBBCCDAABBB')\n",
        "st.sort()\n",
        "t_list = [k for k, g in groupby(st)] \n",
        "print(t_list)\n",
        "\n",
        "\n",
        "s = 'AAAABBBCCD'\n",
        "list_g =[]\n",
        "for k, g in groupby(s):\n",
        "  #print(k, g)\n",
        "  list_g.append(g)\n",
        "\n",
        "print(list_g)\n",
        "\n",
        "\n",
        "print ( [list(g) for k, g in groupby('AAAABBBCCD')])\n",
        "    # [list(g) for k, g in groupby('AAAABBBCCD')] --> AAAA BBB CC D"
      ],
      "execution_count": null,
      "outputs": [
        {
          "output_type": "stream",
          "text": [
            "['A', 'B', 'C', 'D']\n",
            "[<itertools._grouper object at 0x7f05a724a550>, <itertools._grouper object at 0x7f05a724acd0>, <itertools._grouper object at 0x7f05a72718d0>, <itertools._grouper object at 0x7f05a7236850>]\n",
            "[['A', 'A', 'A', 'A'], ['B', 'B', 'B'], ['C', 'C'], ['D']]\n"
          ],
          "name": "stdout"
        }
      ]
    },
    {
      "cell_type": "markdown",
      "metadata": {
        "id": "Lw4w5cCw_UCW"
      },
      "source": [
        "# 해시\n",
        "딕셔너리 사용방법"
      ]
    },
    {
      "cell_type": "code",
      "metadata": {
        "colab": {
          "base_uri": "https://localhost:8080/"
        },
        "id": "0piGvtKi_TE3",
        "outputId": "e631a74a-aa2c-40c5-e374-ab7d510ba38a"
      },
      "source": [
        "participant = [\"leo\", \"kiki\", \"eden\", \"leo\"]\n",
        "\n",
        "hash = {}\n",
        "\n",
        "for part in participant:\n",
        "  if part in hash:\n",
        "    hash[part] += 1\n",
        "  else:\n",
        "    hash[part] = 1\n",
        "print(hash)"
      ],
      "execution_count": null,
      "outputs": [
        {
          "output_type": "stream",
          "text": [
            "{'leo': 2, 'kiki': 1, 'eden': 1}\n"
          ],
          "name": "stdout"
        }
      ]
    },
    {
      "cell_type": "markdown",
      "metadata": {
        "id": "ZVSKnvmBf7o2"
      },
      "source": [
        "## 리스트 컴프리헨션\n",
        "\n"
      ]
    },
    {
      "cell_type": "code",
      "metadata": {
        "colab": {
          "base_uri": "https://localhost:8080/"
        },
        "id": "RYZHDdUgf6MX",
        "outputId": "de236515-0be2-4600-c4dd-d0a61784454e"
      },
      "source": [
        "n = 3\n",
        "m = 4\n",
        "\n",
        "s = [[0]*m for _ in range(n)]\n",
        "print(s)\n",
        "\n",
        "s[1][1] = 4\n",
        "print(s)\n",
        "\n",
        "#홀수 찾기\n",
        "p = [i for i in range(20) if i % 2 == 1 ]\n",
        "print(p)"
      ],
      "execution_count": null,
      "outputs": [
        {
          "output_type": "stream",
          "text": [
            "[[0, 0, 0, 0], [0, 0, 0, 0], [0, 0, 0, 0]]\n",
            "[[0, 0, 0, 0], [0, 4, 0, 0], [0, 0, 0, 0]]\n",
            "[1, 3, 5, 7, 9, 11, 13, 15, 17, 19]\n"
          ],
          "name": "stdout"
        }
      ]
    },
    {
      "cell_type": "code",
      "metadata": {
        "colab": {
          "base_uri": "https://localhost:8080/"
        },
        "id": "6JF0ZaKFv79O",
        "outputId": "ff71cae6-d487-482b-ca58-e01804d56b4f"
      },
      "source": [
        "A=[-1, 3, -4, 5, 1, -6, 2, 1] \n",
        "B=[0]*(len(A)+1)\n",
        "print ( len(A))\n",
        "for i in range(len(A)):\n",
        "  B[i+1] = A[i]"
      ],
      "execution_count": null,
      "outputs": [
        {
          "output_type": "stream",
          "text": [
            "8\n"
          ],
          "name": "stdout"
        }
      ]
    },
    {
      "cell_type": "code",
      "metadata": {
        "colab": {
          "base_uri": "https://localhost:8080/"
        },
        "id": "9NOpX80Cw7fk",
        "outputId": "d678c08e-5720-4f99-d3b6-1b262218083a"
      },
      "source": [
        "print(A)\n",
        "print(B)"
      ],
      "execution_count": null,
      "outputs": [
        {
          "output_type": "stream",
          "text": [
            "[-1, 3, -4, 5, 1, -6, 2, 1]\n",
            "[0, -1, 3, -4, 5, 1, -6, 2, 1]\n"
          ],
          "name": "stdout"
        }
      ]
    },
    {
      "cell_type": "code",
      "metadata": {
        "colab": {
          "base_uri": "https://localhost:8080/"
        },
        "id": "QLj9esa7ygKY",
        "outputId": "00cd0f73-3fa8-45a0-9066-b6319c009e2a"
      },
      "source": [
        "print(  A[2] + A[3] + A[4] + A[5] + A[6] + A[7])\n",
        "print( A[4] + A[5] + A[6] + A[7] ) \n",
        "print(A[0] + A[1] + A[2])"
      ],
      "execution_count": null,
      "outputs": [
        {
          "output_type": "stream",
          "text": [
            "-1\n",
            "-2\n",
            "-2\n"
          ],
          "name": "stdout"
        }
      ]
    },
    {
      "cell_type": "code",
      "metadata": {
        "colab": {
          "base_uri": "https://localhost:8080/"
        },
        "id": "zBW3HkMJzKw8",
        "outputId": "39f117d0-6e06-4fef-f422-78a96c138980"
      },
      "source": [
        "\n",
        "# 빈 배열이 입력 되는것에 대한 확인 필요 \n",
        "n=len(A)\n",
        "    \n",
        "if(n==0):\n",
        "  print(-1)\n",
        "    \n",
        "solution = []\n",
        "for P in range(1, n):\n",
        "  left=0\n",
        "  right=0\n",
        "  for i in range(n): \n",
        "    if P > i:\n",
        "      left = left + A[i] \n",
        "    elif P < i:\n",
        "      right = right + A[i]\n",
        "  if left == right:\n",
        "    solution.append(P)\n",
        "\n",
        "print(solution)\n",
        "\n",
        "#A=[-1, 3, -4, 5, 1, -6, 2, 1] "
      ],
      "execution_count": null,
      "outputs": [
        {
          "output_type": "stream",
          "text": [
            "[1, 3, 7]\n"
          ],
          "name": "stdout"
        }
      ]
    },
    {
      "cell_type": "code",
      "metadata": {
        "colab": {
          "base_uri": "https://localhost:8080/",
          "height": 244
        },
        "id": "SG_NfBEf6HJ7",
        "outputId": "7a26c163-29cb-4916-c289-dc0faaab1e33"
      },
      "source": [
        "A = list()\n",
        "A[0] = 2\n",
        "A[1] = 2\n",
        "A[2] = 2\n",
        "A[3] = 2\n",
        "A[4] = 2\n",
        "A[5] = 3\n",
        "A[6] = 4\n",
        "A[7] = 4\n",
        "A[8] = 4\n",
        "A[9] = 6"
      ],
      "execution_count": null,
      "outputs": [
        {
          "output_type": "error",
          "ename": "IndexError",
          "evalue": "ignored",
          "traceback": [
            "\u001b[0;31m---------------------------------------------------------------------------\u001b[0m",
            "\u001b[0;31mIndexError\u001b[0m                                Traceback (most recent call last)",
            "\u001b[0;32m<ipython-input-42-9c1e7120d217>\u001b[0m in \u001b[0;36m<module>\u001b[0;34m()\u001b[0m\n\u001b[1;32m      1\u001b[0m \u001b[0mA\u001b[0m \u001b[0;34m=\u001b[0m \u001b[0mlist\u001b[0m\u001b[0;34m(\u001b[0m\u001b[0;34m)\u001b[0m\u001b[0;34m\u001b[0m\u001b[0;34m\u001b[0m\u001b[0m\n\u001b[0;32m----> 2\u001b[0;31m \u001b[0mA\u001b[0m\u001b[0;34m[\u001b[0m\u001b[0;36m0\u001b[0m\u001b[0;34m]\u001b[0m \u001b[0;34m=\u001b[0m \u001b[0;36m2\u001b[0m\u001b[0;34m\u001b[0m\u001b[0;34m\u001b[0m\u001b[0m\n\u001b[0m\u001b[1;32m      3\u001b[0m \u001b[0mA\u001b[0m\u001b[0;34m[\u001b[0m\u001b[0;36m1\u001b[0m\u001b[0;34m]\u001b[0m \u001b[0;34m=\u001b[0m \u001b[0;36m2\u001b[0m\u001b[0;34m\u001b[0m\u001b[0;34m\u001b[0m\u001b[0m\n\u001b[1;32m      4\u001b[0m \u001b[0mA\u001b[0m\u001b[0;34m[\u001b[0m\u001b[0;36m2\u001b[0m\u001b[0;34m]\u001b[0m \u001b[0;34m=\u001b[0m \u001b[0;36m2\u001b[0m\u001b[0;34m\u001b[0m\u001b[0;34m\u001b[0m\u001b[0m\n\u001b[1;32m      5\u001b[0m \u001b[0mA\u001b[0m\u001b[0;34m[\u001b[0m\u001b[0;36m3\u001b[0m\u001b[0;34m]\u001b[0m \u001b[0;34m=\u001b[0m \u001b[0;36m2\u001b[0m\u001b[0;34m\u001b[0m\u001b[0;34m\u001b[0m\u001b[0m\n",
            "\u001b[0;31mIndexError\u001b[0m: list assignment index out of range"
          ]
        }
      ]
    }
  ]
}