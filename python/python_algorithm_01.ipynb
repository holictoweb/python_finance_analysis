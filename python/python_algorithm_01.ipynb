{
  "nbformat": 4,
  "nbformat_minor": 0,
  "metadata": {
    "colab": {
      "name": "python_algorithm_01.ipynb",
      "provenance": [],
      "collapsed_sections": [],
      "authorship_tag": "ABX9TyOlxM17ZQkURdYe0yzwEAWb",
      "include_colab_link": true
    },
    "kernelspec": {
      "name": "python3",
      "display_name": "Python 3"
    },
    "language_info": {
      "name": "python"
    }
  },
  "cells": [
    {
      "cell_type": "markdown",
      "metadata": {
        "id": "view-in-github",
        "colab_type": "text"
      },
      "source": [
        "<a href=\"https://colab.research.google.com/github/holictoweb/python_finance_analysis/blob/master/python/python_algorithm_01.ipynb\" target=\"_parent\"><img src=\"https://colab.research.google.com/assets/colab-badge.svg\" alt=\"Open In Colab\"/></a>"
      ]
    },
    {
      "cell_type": "code",
      "metadata": {
        "colab": {
          "base_uri": "https://localhost:8080/"
        },
        "id": "EMxF-itGa5PT",
        "outputId": "030cd575-3099-4193-e8a8-4b3a5d5cab75"
      },
      "source": [
        "\n",
        "\n",
        "def solution(begin, target, words):\n",
        "    answer = 0\n",
        "    Q = [begin]\n",
        "    \n",
        "    while True:\n",
        "        temp_q = []\n",
        "        \n",
        "        for word_1 in Q:\n",
        "            if word_1 == target:\n",
        "                return answer\n",
        "            \n",
        "            for idx, word_2 in enumerate(words):\n",
        "                #print(str(idx), word_2)\n",
        "                if sum( [x!=y for x, y in zip(word_1, word_2)]) == 1:\n",
        "                    print(word_1, word_2)\n",
        "                    temp_q.append(words.pop(idx))\n",
        "                    print(words)\n",
        "        if not temp_q:\n",
        "            return 0\n",
        "        Q = temp_q\n",
        "        answer += 1\n",
        "\n",
        "\n",
        "solution(\"hit\", \"cog\", [\"hot\", \"dot\", \"dog\", \"lot\", \"log\", \"cog\"])"
      ],
      "execution_count": 2,
      "outputs": [
        {
          "output_type": "stream",
          "text": [
            "hit hot\n",
            "['dot', 'dog', 'lot', 'log', 'cog']\n",
            "hot dot\n",
            "['dog', 'lot', 'log', 'cog']\n",
            "hot lot\n",
            "['dog', 'log', 'cog']\n",
            "dot dog\n",
            "['log', 'cog']\n",
            "lot log\n",
            "['cog']\n",
            "dog cog\n",
            "[]\n"
          ],
          "name": "stdout"
        },
        {
          "output_type": "execute_result",
          "data": {
            "text/plain": [
              "4"
            ]
          },
          "metadata": {
            "tags": []
          },
          "execution_count": 2
        }
      ]
    },
    {
      "cell_type": "code",
      "metadata": {
        "colab": {
          "base_uri": "https://localhost:8080/"
        },
        "id": "PMvY0dl1fLGB",
        "outputId": "8436f39b-f09f-47ee-f540-4b9dc1e32ad1"
      },
      "source": [
        "def solution(tickets):\n",
        "    def helper(tickets, route):\n",
        "        if tickets == []:\n",
        "            return route\n",
        "        left = [i for i in range(len(tickets)) if tickets[i][0] == route[-1]]\n",
        "        if left == []:\n",
        "            return None\n",
        "        left.sort(key = lambda i: tickets[i][1])\n",
        "\n",
        "        for next in left:\n",
        "            print(next)\n",
        "            rest = helper(tickets[:next]+tickets[next+1:], route+[tickets[next][1]])\n",
        "            #print(rest)\n",
        "            if rest is not None:\n",
        "                return rest\n",
        "    return helper(tickets, [\"ICN\"])\n",
        "  \n",
        "solution([[\"ICN\", \"JFK\"], [\"HND\", \"IAD\"], [\"JFK\", \"HND\"]])"
      ],
      "execution_count": 4,
      "outputs": [
        {
          "output_type": "stream",
          "text": [
            "what next?\n",
            "0\n",
            "what next?\n",
            "1\n",
            "what next?\n",
            "0\n"
          ],
          "name": "stdout"
        },
        {
          "output_type": "execute_result",
          "data": {
            "text/plain": [
              "['ICN', 'JFK', 'HND', 'IAD']"
            ]
          },
          "metadata": {
            "tags": []
          },
          "execution_count": 4
        }
      ]
    },
    {
      "cell_type": "code",
      "metadata": {
        "colab": {
          "base_uri": "https://localhost:8080/"
        },
        "id": "7-bOGFPkjn-o",
        "outputId": "448de3f2-36de-4ced-9df4-a64e3863ba6d"
      },
      "source": [
        "from collections import deque\n",
        "\n",
        "def bfs(v, visited, adj):\n",
        "    count = 0\n",
        "    q = deque([[v, count]])\n",
        "    while q:\n",
        "        value = q.popleft()\n",
        "        v = value[0] # 현재 노드로 시작 노드 재 설정 \n",
        "        count = value[1]\n",
        "        if visited[v] == -1:\n",
        "            visited[v] = count\n",
        "            count += 1\n",
        "            for e in adj[v]:\n",
        "                q.append([e, count])\n",
        "                \n",
        "def solution(n, edge):\n",
        "    answer = 0\n",
        "    visited = [-1] * (n + 1)\n",
        "    adj = [[] for _ in range(n + 1)]\n",
        "\n",
        "    for e in edge: # 간선 확인으로 실제 해당 노드에 연결되어 있는 모든 노드 값을 저장 \n",
        "      print(e)\n",
        "      x = e[0]\n",
        "      y = e[1]\n",
        "      adj[x].append(y)\n",
        "      adj[y].append(x)\n",
        "    #print(adj)\n",
        "    bfs(1, visited, adj)\n",
        "\n",
        "    for value in visited:\n",
        "        if value == max(visited):\n",
        "            answer += 1\n",
        "    return answer\n",
        "\n",
        "solution(6, \t[[3, 6], [4, 3], [3, 2], [1, 3], [1, 2], [2, 4], [5, 2]])"
      ],
      "execution_count": 9,
      "outputs": [
        {
          "output_type": "stream",
          "text": [
            "[3, 6]\n",
            "[4, 3]\n",
            "[3, 2]\n",
            "[1, 3]\n",
            "[1, 2]\n",
            "[2, 4]\n",
            "[5, 2]\n",
            "[[], [3, 2], [3, 1, 4, 5], [6, 4, 2, 1], [3, 2], [2], [3]]\n"
          ],
          "name": "stdout"
        },
        {
          "output_type": "execute_result",
          "data": {
            "text/plain": [
              "3"
            ]
          },
          "metadata": {
            "tags": []
          },
          "execution_count": 9
        }
      ]
    },
    {
      "cell_type": "code",
      "metadata": {
        "colab": {
          "base_uri": "https://localhost:8080/"
        },
        "id": "OdEnWU6oxKi2",
        "outputId": "33081c10-ac96-4eff-c303-906984d731c1"
      },
      "source": [
        "dicList = [\n",
        "    {'point':90, 'penalty':60, 'name' : 'kitti' },\n",
        "    {'point':87, 'penalty':58, 'name' : 'kate' },\n",
        "    {'point':92, 'penalty':74, 'name' : 'kevin' },\n",
        "    {'point':90, 'penalty':54, 'name' : 'tison' },\n",
        "    {'point':85, 'penalty':75, 'name' : 'json' },\n",
        "]\n",
        " \n",
        "# point 높은순, penalty 낮은순\n",
        "sorted_arr = sorted(dicList, key=lambda e: (-e['point'], e['penalty']))\n",
        "print(sorted_arr)"
      ],
      "execution_count": 12,
      "outputs": [
        {
          "output_type": "stream",
          "text": [
            "[{'point': 92, 'penalty': 74, 'name': 'kevin'}, {'point': 90, 'penalty': 54, 'name': 'tison'}, {'point': 90, 'penalty': 60, 'name': 'kitti'}, {'point': 87, 'penalty': 58, 'name': 'kate'}, {'point': 85, 'penalty': 75, 'name': 'json'}]\n"
          ],
          "name": "stdout"
        }
      ]
    },
    {
      "cell_type": "code",
      "metadata": {
        "colab": {
          "base_uri": "https://localhost:8080/"
        },
        "id": "-NW2-R803lOr",
        "outputId": "50513a19-1f14-4c32-c3c8-6505c39b120b"
      },
      "source": [
        "def solution(phone_book):\n",
        "    answer = True\n",
        "    hash_map = {}\n",
        "    for phone_number in phone_book:\n",
        "        hash_map[phone_number] = 1\n",
        "    for phone_number in phone_book:\n",
        "        temp = \"\"\n",
        "        for number in phone_number:\n",
        "            temp += number\n",
        "            if temp in hash_map and temp != phone_number:\n",
        "                answer = False\n",
        "    return answer\n",
        "\n",
        "print ( solution([\"119\", \"97674223\", \"1195524421\"]) ) \n",
        "print( solution([\"123\",\"456\",\"789\"]) ) "
      ],
      "execution_count": 15,
      "outputs": [
        {
          "output_type": "stream",
          "text": [
            "False\n",
            "True\n"
          ],
          "name": "stdout"
        }
      ]
    },
    {
      "cell_type": "code",
      "metadata": {
        "colab": {
          "base_uri": "https://localhost:8080/"
        },
        "id": "DFL6QvED4QTw",
        "outputId": "637e4790-819b-4618-9b7b-725f96c804f5"
      },
      "source": [
        "def solution(genres, plays):\n",
        "    answer = []\n",
        "    # { 장르 : 총 재생 횟수 } 사전\n",
        "    playsDict = {}\n",
        "    # { 장르 : [ ( 플레이 횟수, 고유 번호 ) ] }\n",
        "    d = { }\n",
        "\n",
        "    # 사전들 초기화\n",
        "    for i in range(len(genres)):\n",
        "        genre = genres[i]\n",
        "        play = plays[i]\n",
        "        playsDict[genre] = playsDict.get(genre, 0) + play\n",
        "        d[genre] = d.get(genre, []) + [ (play, i) ]\n",
        "        \n",
        "    # 재생 횟수 내림차순으로 장르별로 정렬\n",
        "    genreSort = sorted(playsDict.items(), key=lambda x: x[1], reverse=True)\n",
        "    \n",
        "    # 재생 횟수 내림차순, 인덱스 오름차순 정렬\n",
        "    # 장르별로 최대 2개 선택\n",
        "    for (genre, totalPlay) in genreSort:\n",
        "        d[genre] = sorted(d[genre], key=lambda x: (-x[0], x[1]))\n",
        "        answer += [ idx for (play, idx) in d[genre][:2] ]\n",
        "    \n",
        "    return answer\n",
        "\n",
        "solution([\"classic\", \"pop\", \"classic\", \"classic\", \"pop\"], [500, 600, 150, 800, 2500]) "
      ],
      "execution_count": 16,
      "outputs": [
        {
          "output_type": "execute_result",
          "data": {
            "text/plain": [
              "[4, 1, 3, 0]"
            ]
          },
          "metadata": {
            "tags": []
          },
          "execution_count": 16
        }
      ]
    },
    {
      "cell_type": "code",
      "metadata": {
        "colab": {
          "base_uri": "https://localhost:8080/"
        },
        "id": "RtV-rDeH5OaW",
        "outputId": "51f0497b-6bfe-4ae9-f573-e82c26bce5a6"
      },
      "source": [
        "# Python3 code to demonstrate working of\n",
        "# Grouping dictionary keys by value\n",
        "# Using sorted() + items() + defaultdict()\n",
        "from collections import defaultdict\n",
        " \n",
        "# Initialize dictionary\n",
        "test_dict = {'gfg' : 1, 'is' : 2, 'best' : 1, 'for' : 3, 'CS' : 2}\n",
        " \n",
        "# printing original dictionary\n",
        "print(\"The original dictionary : \" +  str(test_dict))\n",
        " \n",
        "# Using sorted() + items() + defaultdict()\n",
        "# Grouping dictionary keys by value\n",
        "res = defaultdict(list)\n",
        "for key, val in sorted(test_dict.items()):\n",
        "    res[val].append(key)\n",
        "     \n",
        "# printing result\n",
        "print(\"Grouped dictionary is : \" + str(dict(res)))"
      ],
      "execution_count": 17,
      "outputs": [
        {
          "output_type": "stream",
          "text": [
            "The original dictionary : {'gfg': 1, 'is': 2, 'best': 1, 'for': 3, 'CS': 2}\n",
            "Grouped dictionary is : {2: ['CS', 'is'], 1: ['best', 'gfg'], 3: ['for']}\n"
          ],
          "name": "stdout"
        }
      ]
    },
    {
      "cell_type": "code",
      "metadata": {
        "colab": {
          "base_uri": "https://localhost:8080/"
        },
        "id": "SPLmqlOa5ipF",
        "outputId": "939930fa-4fb0-4002-a187-3a3f4ea2976e"
      },
      "source": [
        "## dict 로 구성된 list 에서 dict의 키 값 기준으로 value 값 기준 group by \n",
        "\n",
        "from collections import Counter\n",
        "tokens = [{\"Value\": \"Blah\", \"SO\": 0}, {\"Value\": \"zoom\", \"SO\": 5}, {\"Value\": \"Blah\", \"SO\": 2}, {\"Value\": \"Blah\", \"SO\": 3}]\n",
        "Counter(tok['Value'] for tok in tokens)\n",
        "#Counter({'Blah': 3, 'zoom': 1})\n",
        "\n",
        "dict_tokens = dict(tokens)\n",
        "print(dict_tokens)\n",
        "filter_string = 'Blah'\n",
        "filtered_dict = {k:v for (k,v) in dict_tokens.items() if filter_string in k}"
      ],
      "execution_count": 21,
      "outputs": [
        {
          "output_type": "stream",
          "text": [
            "{'Value': 'SO'}\n"
          ],
          "name": "stdout"
        }
      ]
    }
  ]
}