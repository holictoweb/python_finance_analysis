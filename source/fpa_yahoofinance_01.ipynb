{
  "nbformat": 4,
  "nbformat_minor": 0,
  "metadata": {
    "colab": {
      "name": "fpa_yahoofinance_01.ipynb",
      "provenance": [],
      "collapsed_sections": [],
      "authorship_tag": "ABX9TyN0YizmNSl3hCmsuDupFW6w",
      "include_colab_link": true
    },
    "kernelspec": {
      "name": "python3",
      "display_name": "Python 3"
    },
    "language_info": {
      "name": "python"
    }
  },
  "cells": [
    {
      "cell_type": "markdown",
      "metadata": {
        "id": "view-in-github",
        "colab_type": "text"
      },
      "source": [
        "<a href=\"https://colab.research.google.com/github/holictoweb/python_finance_analysis/blob/master/source/fpa_yahoofinance_01.ipynb\" target=\"_parent\"><img src=\"https://colab.research.google.com/assets/colab-badge.svg\" alt=\"Open In Colab\"/></a>"
      ]
    },
    {
      "cell_type": "markdown",
      "metadata": {
        "id": "9Bv8LOPcmq8t"
      },
      "source": [
        "### The Yahoo Finance API provides access to this data to query all information about:\n",
        "\n",
        "- finance summaries\n",
        "- stocks\n",
        "- quotes\n",
        "- movers\n",
        "- charts"
      ]
    },
    {
      "cell_type": "code",
      "metadata": {
        "id": "DNiXCr8bk1e2",
        "colab": {
          "base_uri": "https://localhost:8080/"
        },
        "outputId": "a90d6efe-7f79-4f6f-dda6-365fcb9ac0ab"
      },
      "source": [
        "!pip install yfinance"
      ],
      "execution_count": 1,
      "outputs": [
        {
          "output_type": "stream",
          "text": [
            "Collecting yfinance\n",
            "  Downloading https://files.pythonhosted.org/packages/a7/ee/315752b9ef281ba83c62aa7ec2e2074f85223da6e7e74efb4d3e11c0f510/yfinance-0.1.59.tar.gz\n",
            "Requirement already satisfied: pandas>=0.24 in /usr/local/lib/python3.7/dist-packages (from yfinance) (1.1.5)\n",
            "Requirement already satisfied: numpy>=1.15 in /usr/local/lib/python3.7/dist-packages (from yfinance) (1.19.5)\n",
            "Requirement already satisfied: requests>=2.20 in /usr/local/lib/python3.7/dist-packages (from yfinance) (2.23.0)\n",
            "Requirement already satisfied: multitasking>=0.0.7 in /usr/local/lib/python3.7/dist-packages (from yfinance) (0.0.9)\n",
            "Collecting lxml>=4.5.1\n",
            "\u001b[?25l  Downloading https://files.pythonhosted.org/packages/cf/4d/6537313bf58fe22b508f08cf3eb86b29b6f9edf68e00454224539421073b/lxml-4.6.3-cp37-cp37m-manylinux1_x86_64.whl (5.5MB)\n",
            "\u001b[K     |████████████████████████████████| 5.5MB 11.9MB/s \n",
            "\u001b[?25hRequirement already satisfied: python-dateutil>=2.7.3 in /usr/local/lib/python3.7/dist-packages (from pandas>=0.24->yfinance) (2.8.1)\n",
            "Requirement already satisfied: pytz>=2017.2 in /usr/local/lib/python3.7/dist-packages (from pandas>=0.24->yfinance) (2018.9)\n",
            "Requirement already satisfied: urllib3!=1.25.0,!=1.25.1,<1.26,>=1.21.1 in /usr/local/lib/python3.7/dist-packages (from requests>=2.20->yfinance) (1.24.3)\n",
            "Requirement already satisfied: chardet<4,>=3.0.2 in /usr/local/lib/python3.7/dist-packages (from requests>=2.20->yfinance) (3.0.4)\n",
            "Requirement already satisfied: idna<3,>=2.5 in /usr/local/lib/python3.7/dist-packages (from requests>=2.20->yfinance) (2.10)\n",
            "Requirement already satisfied: certifi>=2017.4.17 in /usr/local/lib/python3.7/dist-packages (from requests>=2.20->yfinance) (2020.12.5)\n",
            "Requirement already satisfied: six>=1.5 in /usr/local/lib/python3.7/dist-packages (from python-dateutil>=2.7.3->pandas>=0.24->yfinance) (1.15.0)\n",
            "Building wheels for collected packages: yfinance\n",
            "  Building wheel for yfinance (setup.py) ... \u001b[?25l\u001b[?25hdone\n",
            "  Created wheel for yfinance: filename=yfinance-0.1.59-py2.py3-none-any.whl size=23442 sha256=4bc5e3a17dcd5dbeab938e5e70af9fa998291e5db261271b332e983d3f86a931\n",
            "  Stored in directory: /root/.cache/pip/wheels/f8/2a/0f/4b5a86e1d52e451757eb6bc17fd899629f0925c777741b6d04\n",
            "Successfully built yfinance\n",
            "Installing collected packages: lxml, yfinance\n",
            "  Found existing installation: lxml 4.2.6\n",
            "    Uninstalling lxml-4.2.6:\n",
            "      Successfully uninstalled lxml-4.2.6\n",
            "Successfully installed lxml-4.6.3 yfinance-0.1.59\n"
          ],
          "name": "stdout"
        }
      ]
    },
    {
      "cell_type": "code",
      "metadata": {
        "id": "_jfeigNqiEBz"
      },
      "source": [
        "import pandas as pd\n",
        "import numpy as np\n",
        "import datetime"
      ],
      "execution_count": 2,
      "outputs": []
    },
    {
      "cell_type": "code",
      "metadata": {
        "colab": {
          "base_uri": "https://localhost:8080/",
          "height": 273
        },
        "id": "G_1s7uouiMio",
        "outputId": "f3c74ea9-ab44-4902-d472-5e5d34733ad0"
      },
      "source": [
        "import yfinance as yf\n",
        " \n",
        "msft = yf.Ticker(\"MSFT\")\n",
        " \n",
        "# get stock info\n",
        "#print(msft.info)\n",
        " \n",
        "# get historical market data\n",
        "hist = msft.history(period=\"5d\")\n",
        "hist.head()"
      ],
      "execution_count": 3,
      "outputs": [
        {
          "output_type": "stream",
          "text": [
            "{'zip': '98052-6399', 'sector': 'Technology', 'fullTimeEmployees': 163000, 'longBusinessSummary': 'Microsoft Corporation develops, licenses, and supports software, services, devices, and solutions worldwide. Its Productivity and Business Processes segment offers Office, Exchange, SharePoint, Microsoft Teams, Office 365 Security and Compliance, and Skype for Business, as well as related Client Access Licenses (CAL); Skype, Outlook.com, OneDrive, and LinkedIn; and Dynamics 365, a set of cloud-based and on-premises business solutions for small and medium businesses, large organizations, and divisions of enterprises. Its Intelligent Cloud segment licenses SQL and Windows Servers, Visual Studio, System Center, and related CALs; GitHub that provides a collaboration platform and code hosting service for developers; and Azure, a cloud platform. It also offers support services and Microsoft consulting services to assist customers in developing, deploying, and managing Microsoft server and desktop solutions; and training and certification to developers and IT professionals on various Microsoft products. Its More Personal Computing segment provides Windows original equipment manufacturer (OEM) licensing and other non-volume licensing of the Windows operating system; Windows Commercial, such as volume licensing of the Windows operating system, Windows cloud services, and other Windows commercial offerings; patent licensing; Windows Internet of Things; and MSN advertising. It also offers Surface, PC accessories, PCs, tablets, gaming and entertainment consoles, and other devices; Gaming, including Xbox hardware, and Xbox content and services; video games and third-party video game royalties; and Search, including Bing and Microsoft advertising. It sells its products through OEMs, distributors, and resellers; and directly through digital marketplaces, online stores, and retail stores. It has a strategic collaboration with DXC Technology and Dynatrace, Inc. The company was founded in 1975 and is headquartered in Redmond, Washington.', 'city': 'Redmond', 'phone': '425-882-8080', 'state': 'WA', 'country': 'United States', 'companyOfficers': [], 'website': 'http://www.microsoft.com', 'maxAge': 1, 'address1': 'One Microsoft Way', 'industry': 'Software—Infrastructure', 'previousClose': 253.25, 'regularMarketOpen': 252.87, 'twoHundredDayAverage': 223.73563, 'trailingAnnualDividendYield': 0.008450149, 'payoutRatio': 0.31149998, 'volume24Hr': None, 'regularMarketDayHigh': 255.99, 'navPrice': None, 'averageDailyVolume10Day': 26802533, 'totalAssets': None, 'regularMarketPreviousClose': 253.25, 'fiftyDayAverage': 236.36736, 'trailingAnnualDividendRate': 2.14, 'open': 252.87, 'toCurrency': None, 'averageVolume10days': 26802533, 'expireDate': None, 'yield': None, 'algorithm': None, 'dividendRate': 2.24, 'exDividendDate': 1621382400, 'beta': 0.794263, 'circulatingSupply': None, 'startDate': None, 'regularMarketDayLow': 252.44, 'priceHint': 2, 'currency': 'USD', 'trailingPE': 38.146713, 'regularMarketVolume': 22917371, 'lastMarket': None, 'maxSupply': None, 'openInterest': None, 'marketCap': 1929676980224, 'volumeAllCurrencies': None, 'strikePrice': None, 'averageVolume': 30264616, 'priceToSalesTrailing12Months': 12.5889, 'dayLow': 252.44, 'ask': 255.73, 'ytdReturn': None, 'askSize': 900, 'volume': 22917371, 'fiftyTwoWeekHigh': 255.99, 'forwardPE': 31.664604, 'fromCurrency': None, 'fiveYearAvgDividendYield': 1.66, 'fiftyTwoWeekLow': 162.3, 'bid': 255.51, 'tradeable': False, 'dividendYield': 0.0088, 'bidSize': 900, 'dayHigh': 255.99, 'exchange': 'NMS', 'shortName': 'Microsoft Corporation', 'longName': 'Microsoft Corporation', 'exchangeTimezoneName': 'America/New_York', 'exchangeTimezoneShortName': 'EDT', 'isEsgPopulated': False, 'gmtOffSetMilliseconds': '-14400000', 'quoteType': 'EQUITY', 'symbol': 'MSFT', 'messageBoardId': 'finmb_21835', 'market': 'us_market', 'annualHoldingsTurnover': None, 'enterpriseToRevenue': 12.268, 'beta3Year': None, 'profitMargins': 0.33473998, 'enterpriseToEbitda': 26.232, '52WeekChange': 0.5458281, 'morningStarRiskRating': None, 'forwardEps': 8.08, 'revenueQuarterlyGrowth': None, 'sharesOutstanding': 7560500224, 'fundInceptionDate': None, 'annualReportExpenseRatio': None, 'bookValue': 17.259, 'sharesShort': 49574419, 'sharesPercentSharesOut': 0.0066000004, 'fundFamily': None, 'lastFiscalYearEnd': 1593475200, 'heldPercentInstitutions': 0.72166, 'netIncomeToCommon': 51309998080, 'trailingEps': 6.707, 'lastDividendValue': 0.56, 'SandP52WeekChange': 0.49505913, 'priceToBook': 14.824149, 'heldPercentInsiders': 0.00071999995, 'nextFiscalYearEnd': 1656547200, 'mostRecentQuarter': 1609372800, 'shortRatio': 1.63, 'sharesShortPreviousMonthDate': 1613088000, 'floatShares': 7431118929, 'enterpriseValue': 1880468881408, 'threeYearAverageReturn': None, 'lastSplitDate': 1045526400, 'lastSplitFactor': '2:1', 'legalType': None, 'lastDividendDate': 1613520000, 'morningStarOverallRating': None, 'earningsQuarterlyGrowth': 0.327, 'dateShortInterest': 1615766400, 'pegRatio': 1.87, 'lastCapGain': None, 'shortPercentOfFloat': 0.0066000004, 'sharesShortPriorMonth': 40597300, 'impliedSharesOutstanding': None, 'category': None, 'fiveYearAverageReturn': None, 'regularMarketPrice': 255.85, 'logo_url': 'https://logo.clearbit.com/microsoft.com'}\n"
          ],
          "name": "stdout"
        },
        {
          "output_type": "execute_result",
          "data": {
            "text/html": [
              "<div>\n",
              "<style scoped>\n",
              "    .dataframe tbody tr th:only-of-type {\n",
              "        vertical-align: middle;\n",
              "    }\n",
              "\n",
              "    .dataframe tbody tr th {\n",
              "        vertical-align: top;\n",
              "    }\n",
              "\n",
              "    .dataframe thead th {\n",
              "        text-align: right;\n",
              "    }\n",
              "</style>\n",
              "<table border=\"1\" class=\"dataframe\">\n",
              "  <thead>\n",
              "    <tr style=\"text-align: right;\">\n",
              "      <th></th>\n",
              "      <th>Open</th>\n",
              "      <th>High</th>\n",
              "      <th>Low</th>\n",
              "      <th>Close</th>\n",
              "      <th>Volume</th>\n",
              "      <th>Dividends</th>\n",
              "      <th>Stock Splits</th>\n",
              "    </tr>\n",
              "    <tr>\n",
              "      <th>Date</th>\n",
              "      <th></th>\n",
              "      <th></th>\n",
              "      <th></th>\n",
              "      <th></th>\n",
              "      <th></th>\n",
              "      <th></th>\n",
              "      <th></th>\n",
              "    </tr>\n",
              "  </thead>\n",
              "  <tbody>\n",
              "    <tr>\n",
              "      <th>2021-04-05</th>\n",
              "      <td>242.759995</td>\n",
              "      <td>249.960007</td>\n",
              "      <td>242.699997</td>\n",
              "      <td>249.070007</td>\n",
              "      <td>36910600</td>\n",
              "      <td>0</td>\n",
              "      <td>0</td>\n",
              "    </tr>\n",
              "    <tr>\n",
              "      <th>2021-04-06</th>\n",
              "      <td>247.610001</td>\n",
              "      <td>249.399994</td>\n",
              "      <td>246.880005</td>\n",
              "      <td>247.860001</td>\n",
              "      <td>22931900</td>\n",
              "      <td>0</td>\n",
              "      <td>0</td>\n",
              "    </tr>\n",
              "    <tr>\n",
              "      <th>2021-04-07</th>\n",
              "      <td>247.809998</td>\n",
              "      <td>250.929993</td>\n",
              "      <td>247.190002</td>\n",
              "      <td>249.899994</td>\n",
              "      <td>22719800</td>\n",
              "      <td>0</td>\n",
              "      <td>0</td>\n",
              "    </tr>\n",
              "    <tr>\n",
              "      <th>2021-04-08</th>\n",
              "      <td>252.770004</td>\n",
              "      <td>254.139999</td>\n",
              "      <td>252.000000</td>\n",
              "      <td>253.250000</td>\n",
              "      <td>23625200</td>\n",
              "      <td>0</td>\n",
              "      <td>0</td>\n",
              "    </tr>\n",
              "    <tr>\n",
              "      <th>2021-04-09</th>\n",
              "      <td>252.869995</td>\n",
              "      <td>255.990005</td>\n",
              "      <td>252.440002</td>\n",
              "      <td>255.850006</td>\n",
              "      <td>24315700</td>\n",
              "      <td>0</td>\n",
              "      <td>0</td>\n",
              "    </tr>\n",
              "  </tbody>\n",
              "</table>\n",
              "</div>"
            ],
            "text/plain": [
              "                  Open        High  ...  Dividends  Stock Splits\n",
              "Date                                ...                         \n",
              "2021-04-05  242.759995  249.960007  ...          0             0\n",
              "2021-04-06  247.610001  249.399994  ...          0             0\n",
              "2021-04-07  247.809998  250.929993  ...          0             0\n",
              "2021-04-08  252.770004  254.139999  ...          0             0\n",
              "2021-04-09  252.869995  255.990005  ...          0             0\n",
              "\n",
              "[5 rows x 7 columns]"
            ]
          },
          "metadata": {
            "tags": []
          },
          "execution_count": 3
        }
      ]
    },
    {
      "cell_type": "markdown",
      "metadata": {
        "id": "uCnZhhtZnjKI"
      },
      "source": [
        "#### 시각화"
      ]
    },
    {
      "cell_type": "code",
      "metadata": {
        "id": "1FqFnf1pnhj-"
      },
      "source": [
        "import matplotlib.pyplot as plt\n",
        "import seaborn"
      ],
      "execution_count": null,
      "outputs": []
    },
    {
      "cell_type": "code",
      "metadata": {
        "id": "pJKeECizlCm3"
      },
      "source": [
        "sdate = datetime.datetime(2010, 1,1)\n",
        "edate = datetime.datetime(2021, 3,31)\n",
        " \n",
        " \n",
        "amzn = yf.Ticker(\"AMZN\")"
      ],
      "execution_count": 4,
      "outputs": []
    },
    {
      "cell_type": "code",
      "metadata": {
        "colab": {
          "base_uri": "https://localhost:8080/"
        },
        "id": "bQDXxTuLMts0",
        "outputId": "de95040d-0d20-4b4d-8bc5-90bb3f7cd3cf"
      },
      "source": [
        " amzn_df = yf.download('AMZN', start=sdate, end=edate)"
      ],
      "execution_count": 7,
      "outputs": [
        {
          "output_type": "stream",
          "text": [
            "\r[*********************100%***********************]  1 of 1 completed\n"
          ],
          "name": "stdout"
        }
      ]
    },
    {
      "cell_type": "code",
      "metadata": {
        "id": "qn4JKHAhnii6",
        "colab": {
          "base_uri": "https://localhost:8080/",
          "height": 287
        },
        "outputId": "6468c710-ca4b-4f2c-a7d4-0458bf8b3689"
      },
      "source": [
        "\n",
        "amzn_df['Close'].plot()"
      ],
      "execution_count": 8,
      "outputs": [
        {
          "output_type": "execute_result",
          "data": {
            "text/plain": [
              "<matplotlib.axes._subplots.AxesSubplot at 0x7f9c1f7cb590>"
            ]
          },
          "metadata": {
            "tags": []
          },
          "execution_count": 8
        },
        {
          "output_type": "display_data",
          "data": {
            "image/png": "[encoded data removed]",
            "text/plain": [
              "<Figure size 432x288 with 1 Axes>"
            ]
          },
          "metadata": {
            "tags": [],
            "needs_background": "light"
          }
        }
      ]
    },
    {
      "cell_type": "markdown",
      "metadata": {
        "id": "0m_fZSFOuthk"
      },
      "source": [
        "### get min data\n",
        "\n",
        "- 최대 7일이전의 "
      ]
    },
    {
      "cell_type": "code",
      "metadata": {
        "colab": {
          "base_uri": "https://localhost:8080/"
        },
        "id": "V5uUv5daiT43",
        "outputId": "5f7f560d-7ae9-463f-bd8d-0eada507a775"
      },
      "source": [
        " sdate = datetime.datetime(2021, 3,24)\n",
        "edate = datetime.datetime(2021, 3,31)\n",
        "\n",
        " data = yf.download(  # or pdr.get_data_yahoo(...\n",
        "        # tickers list or string as well\n",
        "        tickers = \"SPY AAPL MSFT\",\n",
        " \n",
        "        # use \"period\" instead of start/end\n",
        "        # valid periods: 1d,5d,1mo,3mo,6mo,1y,2y,5y,10y,ytd,max\n",
        "        # (optional, default is '1mo')\n",
        "        period = \"ytd\",\n",
        " \n",
        "        # fetch data by interval (including intraday if period < 60 days)\n",
        "        # valid intervals: 1m,2m,5m,15m,30m,60m,90m,1h,1d,5d,1wk,1mo,3mo\n",
        "        # (optional, default is '1d')\n",
        "        interval = \"1m\",\n",
        " \n",
        "        # group by ticker (to access via data['SPY'])\n",
        "        # (optional, default is 'column')\n",
        "        group_by = 'ticker',\n",
        " \n",
        "        # adjust all OHLC automatically\n",
        "        # (optional, default is False)\n",
        "        auto_adjust = True,\n",
        " \n",
        "        # download pre/post regular market hours data\n",
        "        # (optional, default is False)\n",
        "        prepost = True,\n",
        " \n",
        "        # use threads for mass downloading? (True/False/Integer)\n",
        "        # (optional, default is True)\n",
        "        threads = True,\n",
        " \n",
        "        # proxy URL scheme use use when downloading?\n",
        "        # (optional, default is None)\n",
        "        proxy = None,\n",
        "        start=sdate, \n",
        "        end=edate\n",
        "    )"
      ],
      "execution_count": 11,
      "outputs": [
        {
          "output_type": "stream",
          "text": [
            "[*********************100%***********************]  3 of 3 completed\n"
          ],
          "name": "stdout"
        }
      ]
    },
    {
      "cell_type": "code",
      "metadata": {
        "colab": {
          "base_uri": "https://localhost:8080/",
          "height": 266
        },
        "id": "uIux7XOyui44",
        "outputId": "d9721d9f-dc99-4338-f1dd-dc6936b14b23"
      },
      "source": [
        "data.head()"
      ],
      "execution_count": 12,
      "outputs": [
        {
          "output_type": "execute_result",
          "data": {
            "text/html": [
              "<div>\n",
              "<style scoped>\n",
              "    .dataframe tbody tr th:only-of-type {\n",
              "        vertical-align: middle;\n",
              "    }\n",
              "\n",
              "    .dataframe tbody tr th {\n",
              "        vertical-align: top;\n",
              "    }\n",
              "\n",
              "    .dataframe thead tr th {\n",
              "        text-align: left;\n",
              "    }\n",
              "\n",
              "    .dataframe thead tr:last-of-type th {\n",
              "        text-align: right;\n",
              "    }\n",
              "</style>\n",
              "<table border=\"1\" class=\"dataframe\">\n",
              "  <thead>\n",
              "    <tr>\n",
              "      <th></th>\n",
              "      <th colspan=\"5\" halign=\"left\">MSFT</th>\n",
              "      <th colspan=\"5\" halign=\"left\">AAPL</th>\n",
              "      <th colspan=\"5\" halign=\"left\">SPY</th>\n",
              "    </tr>\n",
              "    <tr>\n",
              "      <th></th>\n",
              "      <th>Open</th>\n",
              "      <th>High</th>\n",
              "      <th>Low</th>\n",
              "      <th>Close</th>\n",
              "      <th>Volume</th>\n",
              "      <th>Open</th>\n",
              "      <th>High</th>\n",
              "      <th>Low</th>\n",
              "      <th>Close</th>\n",
              "      <th>Volume</th>\n",
              "      <th>Open</th>\n",
              "      <th>High</th>\n",
              "      <th>Low</th>\n",
              "      <th>Close</th>\n",
              "      <th>Volume</th>\n",
              "    </tr>\n",
              "    <tr>\n",
              "      <th>Datetime</th>\n",
              "      <th></th>\n",
              "      <th></th>\n",
              "      <th></th>\n",
              "      <th></th>\n",
              "      <th></th>\n",
              "      <th></th>\n",
              "      <th></th>\n",
              "      <th></th>\n",
              "      <th></th>\n",
              "      <th></th>\n",
              "      <th></th>\n",
              "      <th></th>\n",
              "      <th></th>\n",
              "      <th></th>\n",
              "      <th></th>\n",
              "    </tr>\n",
              "  </thead>\n",
              "  <tbody>\n",
              "    <tr>\n",
              "      <th>2021-03-24 04:00:00-04:00</th>\n",
              "      <td>238.00</td>\n",
              "      <td>238.28</td>\n",
              "      <td>237.79</td>\n",
              "      <td>237.79</td>\n",
              "      <td>0.0</td>\n",
              "      <td>122.48</td>\n",
              "      <td>122.50</td>\n",
              "      <td>122.44</td>\n",
              "      <td>122.44</td>\n",
              "      <td>0.0</td>\n",
              "      <td>389.41</td>\n",
              "      <td>389.50</td>\n",
              "      <td>389.36</td>\n",
              "      <td>389.36</td>\n",
              "      <td>0.0</td>\n",
              "    </tr>\n",
              "    <tr>\n",
              "      <th>2021-03-24 04:01:00-04:00</th>\n",
              "      <td>NaN</td>\n",
              "      <td>NaN</td>\n",
              "      <td>NaN</td>\n",
              "      <td>NaN</td>\n",
              "      <td>NaN</td>\n",
              "      <td>122.50</td>\n",
              "      <td>122.55</td>\n",
              "      <td>122.44</td>\n",
              "      <td>122.54</td>\n",
              "      <td>0.0</td>\n",
              "      <td>389.26</td>\n",
              "      <td>389.26</td>\n",
              "      <td>389.25</td>\n",
              "      <td>389.25</td>\n",
              "      <td>0.0</td>\n",
              "    </tr>\n",
              "    <tr>\n",
              "      <th>2021-03-24 04:02:00-04:00</th>\n",
              "      <td>237.79</td>\n",
              "      <td>237.79</td>\n",
              "      <td>237.79</td>\n",
              "      <td>237.79</td>\n",
              "      <td>0.0</td>\n",
              "      <td>122.57</td>\n",
              "      <td>122.57</td>\n",
              "      <td>122.54</td>\n",
              "      <td>122.54</td>\n",
              "      <td>0.0</td>\n",
              "      <td>389.26</td>\n",
              "      <td>389.29</td>\n",
              "      <td>389.26</td>\n",
              "      <td>389.29</td>\n",
              "      <td>0.0</td>\n",
              "    </tr>\n",
              "    <tr>\n",
              "      <th>2021-03-24 04:03:00-04:00</th>\n",
              "      <td>238.00</td>\n",
              "      <td>238.00</td>\n",
              "      <td>237.89</td>\n",
              "      <td>237.89</td>\n",
              "      <td>0.0</td>\n",
              "      <td>122.55</td>\n",
              "      <td>122.55</td>\n",
              "      <td>122.50</td>\n",
              "      <td>122.54</td>\n",
              "      <td>0.0</td>\n",
              "      <td>389.18</td>\n",
              "      <td>389.36</td>\n",
              "      <td>389.18</td>\n",
              "      <td>389.36</td>\n",
              "      <td>0.0</td>\n",
              "    </tr>\n",
              "    <tr>\n",
              "      <th>2021-03-24 04:04:00-04:00</th>\n",
              "      <td>237.87</td>\n",
              "      <td>237.87</td>\n",
              "      <td>237.79</td>\n",
              "      <td>237.86</td>\n",
              "      <td>0.0</td>\n",
              "      <td>122.54</td>\n",
              "      <td>122.64</td>\n",
              "      <td>122.51</td>\n",
              "      <td>122.55</td>\n",
              "      <td>0.0</td>\n",
              "      <td>389.38</td>\n",
              "      <td>389.38</td>\n",
              "      <td>389.26</td>\n",
              "      <td>389.28</td>\n",
              "      <td>0.0</td>\n",
              "    </tr>\n",
              "  </tbody>\n",
              "</table>\n",
              "</div>"
            ],
            "text/plain": [
              "                             MSFT                  ...     SPY               \n",
              "                             Open    High     Low  ...     Low   Close Volume\n",
              "Datetime                                           ...                       \n",
              "2021-03-24 04:00:00-04:00  238.00  238.28  237.79  ...  389.36  389.36    0.0\n",
              "2021-03-24 04:01:00-04:00     NaN     NaN     NaN  ...  389.25  389.25    0.0\n",
              "2021-03-24 04:02:00-04:00  237.79  237.79  237.79  ...  389.26  389.29    0.0\n",
              "2021-03-24 04:03:00-04:00  238.00  238.00  237.89  ...  389.18  389.36    0.0\n",
              "2021-03-24 04:04:00-04:00  237.87  237.87  237.79  ...  389.26  389.28    0.0\n",
              "\n",
              "[5 rows x 15 columns]"
            ]
          },
          "metadata": {
            "tags": []
          },
          "execution_count": 12
        }
      ]
    },
    {
      "cell_type": "code",
      "metadata": {
        "id": "aZbuaHwIu5JZ"
      },
      "source": [
        ""
      ],
      "execution_count": null,
      "outputs": []
    }
  ]
}