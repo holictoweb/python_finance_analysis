{
  "nbformat": 4,
  "nbformat_minor": 0,
  "metadata": {
    "colab": {
      "name": "fpa_yahoofinance_01.ipynb",
      "provenance": [],
      "collapsed_sections": [],
      "authorship_tag": "ABX9TyP5EK2vKO68XamOkJficlZK",
      "include_colab_link": true
    },
    "kernelspec": {
      "name": "python3",
      "display_name": "Python 3"
    },
    "language_info": {
      "name": "python"
    }
  },
  "cells": [
    {
      "cell_type": "markdown",
      "metadata": {
        "id": "view-in-github",
        "colab_type": "text"
      },
      "source": [
        "<a href=\"https://colab.research.google.com/github/holictoweb/python_finance_analysis/blob/master/source/fpa_yahoofinance_01.ipynb\" target=\"_parent\"><img src=\"https://colab.research.google.com/assets/colab-badge.svg\" alt=\"Open In Colab\"/></a>"
      ]
    },
    {
      "cell_type": "markdown",
      "metadata": {
        "id": "9Bv8LOPcmq8t"
      },
      "source": [
        "### The Yahoo Finance API provides access to this data to query all information about:\n",
        "\n",
        "- finance summaries\n",
        "- stocks\n",
        "- quotes\n",
        "- movers\n",
        "- charts"
      ]
    },
    {
      "cell_type": "code",
      "metadata": {
        "id": "DNiXCr8bk1e2"
      },
      "source": [
        "!pip install yfinance"
      ],
      "execution_count": null,
      "outputs": []
    },
    {
      "cell_type": "code",
      "metadata": {
        "id": "_jfeigNqiEBz"
      },
      "source": [
        "import pandas as pd\n",
        "import numpy as np\n",
        "import datetime "
      ],
      "execution_count": 9,
      "outputs": []
    },
    {
      "cell_type": "code",
      "metadata": {
        "colab": {
          "base_uri": "https://localhost:8080/",
          "height": 273
        },
        "id": "G_1s7uouiMio",
        "outputId": "8a14f48d-1540-47df-f5d6-8bc27a9b8c78"
      },
      "source": [
        "import yfinance as yf\n",
        "\n",
        "msft = yf.Ticker(\"MSFT\")\n",
        "\n",
        "# get stock info\n",
        "print(msft.info)\n",
        "\n",
        "# get historical market data\n",
        "hist = msft.history(period=\"5d\")\n",
        "hist.head()"
      ],
      "execution_count": 8,
      "outputs": [
        {
          "output_type": "stream",
          "text": [
            "{'zip': '98052-6399', 'sector': 'Technology', 'fullTimeEmployees': 163000, 'longBusinessSummary': 'Microsoft Corporation develops, licenses, and supports software, services, devices, and solutions worldwide. Its Productivity and Business Processes segment offers Office, Exchange, SharePoint, Microsoft Teams, Office 365 Security and Compliance, and Skype for Business, as well as related Client Access Licenses (CAL); Skype, Outlook.com, OneDrive, and LinkedIn; and Dynamics 365, a set of cloud-based and on-premises business solutions for small and medium businesses, large organizations, and divisions of enterprises. Its Intelligent Cloud segment licenses SQL and Windows Servers, Visual Studio, System Center, and related CALs; GitHub that provides a collaboration platform and code hosting service for developers; and Azure, a cloud platform. It also offers support services and Microsoft consulting services to assist customers in developing, deploying, and managing Microsoft server and desktop solutions; and training and certification to developers and IT professionals on various Microsoft products. Its More Personal Computing segment provides Windows original equipment manufacturer (OEM) licensing and other non-volume licensing of the Windows operating system; Windows Commercial, such as volume licensing of the Windows operating system, Windows cloud services, and other Windows commercial offerings; patent licensing; Windows Internet of Things; and MSN advertising. It also offers Surface, PC accessories, PCs, tablets, gaming and entertainment consoles, and other devices; Gaming, including Xbox hardware, and Xbox content and services; video games and third-party video game royalties; and Search, including Bing and Microsoft advertising. It sells its products through OEMs, distributors, and resellers; and directly through digital marketplaces, online stores, and retail stores. It has a strategic collaboration with DXC Technology and Dynatrace, Inc. The company was founded in 1975 and is headquartered in Redmond, Washington.', 'city': 'Redmond', 'phone': '425-882-8080', 'state': 'WA', 'country': 'United States', 'companyOfficers': [], 'website': 'http://www.microsoft.com', 'maxAge': 1, 'address1': 'One Microsoft Way', 'industry': 'Software—Infrastructure', 'previousClose': 253.25, 'regularMarketOpen': 252.87, 'twoHundredDayAverage': 223.61739, 'trailingAnnualDividendYield': 0.008450149, 'payoutRatio': 0.31149998, 'volume24Hr': None, 'regularMarketDayHigh': 255.99, 'navPrice': None, 'averageDailyVolume10Day': 29205528, 'totalAssets': None, 'regularMarketPreviousClose': 253.25, 'fiftyDayAverage': 236.49886, 'trailingAnnualDividendRate': 2.14, 'open': 252.87, 'toCurrency': None, 'averageVolume10days': 29205528, 'expireDate': None, 'yield': None, 'algorithm': None, 'dividendRate': 2.24, 'exDividendDate': 1621382400, 'beta': 0.794263, 'circulatingSupply': None, 'startDate': None, 'regularMarketDayLow': 252.44, 'priceHint': 2, 'currency': 'USD', 'trailingPE': 38.146713, 'regularMarketVolume': 22917371, 'lastMarket': None, 'maxSupply': None, 'openInterest': None, 'marketCap': 1929676980224, 'volumeAllCurrencies': None, 'strikePrice': None, 'averageVolume': 30264616, 'priceToSalesTrailing12Months': 12.5889, 'dayLow': 252.44, 'ask': 255.73, 'ytdReturn': None, 'askSize': 900, 'volume': 22917371, 'fiftyTwoWeekHigh': 255.99, 'forwardPE': 31.664604, 'fromCurrency': None, 'fiveYearAvgDividendYield': 1.66, 'fiftyTwoWeekLow': 162.3, 'bid': 255.51, 'tradeable': False, 'dividendYield': 0.0088, 'bidSize': 900, 'dayHigh': 255.99, 'exchange': 'NMS', 'shortName': 'Microsoft Corporation', 'longName': 'Microsoft Corporation', 'exchangeTimezoneName': 'America/New_York', 'exchangeTimezoneShortName': 'EDT', 'isEsgPopulated': False, 'gmtOffSetMilliseconds': '-14400000', 'quoteType': 'EQUITY', 'symbol': 'MSFT', 'messageBoardId': 'finmb_21835', 'market': 'us_market', 'annualHoldingsTurnover': None, 'enterpriseToRevenue': 12.268, 'beta3Year': None, 'profitMargins': 0.33473998, 'enterpriseToEbitda': 26.232, '52WeekChange': 0.5458281, 'morningStarRiskRating': None, 'forwardEps': 8.08, 'revenueQuarterlyGrowth': None, 'sharesOutstanding': 7560500224, 'fundInceptionDate': None, 'annualReportExpenseRatio': None, 'bookValue': 17.259, 'sharesShort': 49574419, 'sharesPercentSharesOut': 0.0066000004, 'fundFamily': None, 'lastFiscalYearEnd': 1593475200, 'heldPercentInstitutions': 0.72166, 'netIncomeToCommon': 51309998080, 'trailingEps': 6.707, 'lastDividendValue': 0.56, 'SandP52WeekChange': 0.49505913, 'priceToBook': 14.824149, 'heldPercentInsiders': 0.00071999995, 'nextFiscalYearEnd': 1656547200, 'mostRecentQuarter': 1609372800, 'shortRatio': 1.63, 'sharesShortPreviousMonthDate': 1613088000, 'floatShares': 7431118929, 'enterpriseValue': 1880468881408, 'threeYearAverageReturn': None, 'lastSplitDate': 1045526400, 'lastSplitFactor': '2:1', 'legalType': None, 'lastDividendDate': 1613520000, 'morningStarOverallRating': None, 'earningsQuarterlyGrowth': 0.327, 'dateShortInterest': 1615766400, 'pegRatio': 1.87, 'lastCapGain': None, 'shortPercentOfFloat': 0.0066000004, 'sharesShortPriorMonth': 40597300, 'impliedSharesOutstanding': None, 'category': None, 'fiveYearAverageReturn': None, 'regularMarketPrice': 255.85, 'logo_url': 'https://logo.clearbit.com/microsoft.com'}\n"
          ],
          "name": "stdout"
        },
        {
          "output_type": "execute_result",
          "data": {
            "text/html": [
              "<div>\n",
              "<style scoped>\n",
              "    .dataframe tbody tr th:only-of-type {\n",
              "        vertical-align: middle;\n",
              "    }\n",
              "\n",
              "    .dataframe tbody tr th {\n",
              "        vertical-align: top;\n",
              "    }\n",
              "\n",
              "    .dataframe thead th {\n",
              "        text-align: right;\n",
              "    }\n",
              "</style>\n",
              "<table border=\"1\" class=\"dataframe\">\n",
              "  <thead>\n",
              "    <tr style=\"text-align: right;\">\n",
              "      <th></th>\n",
              "      <th>Open</th>\n",
              "      <th>High</th>\n",
              "      <th>Low</th>\n",
              "      <th>Close</th>\n",
              "      <th>Volume</th>\n",
              "      <th>Dividends</th>\n",
              "      <th>Stock Splits</th>\n",
              "    </tr>\n",
              "    <tr>\n",
              "      <th>Date</th>\n",
              "      <th></th>\n",
              "      <th></th>\n",
              "      <th></th>\n",
              "      <th></th>\n",
              "      <th></th>\n",
              "      <th></th>\n",
              "      <th></th>\n",
              "    </tr>\n",
              "  </thead>\n",
              "  <tbody>\n",
              "    <tr>\n",
              "      <th>2021-04-05</th>\n",
              "      <td>242.759995</td>\n",
              "      <td>249.960007</td>\n",
              "      <td>242.699997</td>\n",
              "      <td>249.070007</td>\n",
              "      <td>36910600</td>\n",
              "      <td>0</td>\n",
              "      <td>0</td>\n",
              "    </tr>\n",
              "    <tr>\n",
              "      <th>2021-04-06</th>\n",
              "      <td>247.610001</td>\n",
              "      <td>249.399994</td>\n",
              "      <td>246.880005</td>\n",
              "      <td>247.860001</td>\n",
              "      <td>22931900</td>\n",
              "      <td>0</td>\n",
              "      <td>0</td>\n",
              "    </tr>\n",
              "    <tr>\n",
              "      <th>2021-04-07</th>\n",
              "      <td>247.809998</td>\n",
              "      <td>250.929993</td>\n",
              "      <td>247.190002</td>\n",
              "      <td>249.899994</td>\n",
              "      <td>22719800</td>\n",
              "      <td>0</td>\n",
              "      <td>0</td>\n",
              "    </tr>\n",
              "    <tr>\n",
              "      <th>2021-04-08</th>\n",
              "      <td>252.770004</td>\n",
              "      <td>254.139999</td>\n",
              "      <td>252.000000</td>\n",
              "      <td>253.250000</td>\n",
              "      <td>23625200</td>\n",
              "      <td>0</td>\n",
              "      <td>0</td>\n",
              "    </tr>\n",
              "    <tr>\n",
              "      <th>2021-04-09</th>\n",
              "      <td>252.869995</td>\n",
              "      <td>255.990005</td>\n",
              "      <td>252.440002</td>\n",
              "      <td>255.850006</td>\n",
              "      <td>24315700</td>\n",
              "      <td>0</td>\n",
              "      <td>0</td>\n",
              "    </tr>\n",
              "  </tbody>\n",
              "</table>\n",
              "</div>"
            ],
            "text/plain": [
              "                  Open        High  ...  Dividends  Stock Splits\n",
              "Date                                ...                         \n",
              "2021-04-05  242.759995  249.960007  ...          0             0\n",
              "2021-04-06  247.610001  249.399994  ...          0             0\n",
              "2021-04-07  247.809998  250.929993  ...          0             0\n",
              "2021-04-08  252.770004  254.139999  ...          0             0\n",
              "2021-04-09  252.869995  255.990005  ...          0             0\n",
              "\n",
              "[5 rows x 7 columns]"
            ]
          },
          "metadata": {
            "tags": []
          },
          "execution_count": 8
        }
      ]
    },
    {
      "cell_type": "code",
      "metadata": {
        "id": "pJKeECizlCm3"
      },
      "source": [
        "begin_date = datetime.datetime(2010, 1,1)\n",
        "end_date = datetime.datetime(2021, 3,31)\n",
        "\n",
        "\n",
        "amzn = yf.Ticker(\"AMZN\")\n",
        "\n",
        "\n"
      ],
      "execution_count": null,
      "outputs": []
    },
    {
      "cell_type": "markdown",
      "metadata": {
        "id": "uCnZhhtZnjKI"
      },
      "source": [
        "#### 시각화"
      ]
    },
    {
      "cell_type": "code",
      "metadata": {
        "id": "1FqFnf1pnhj-"
      },
      "source": [
        "import matplotlib.pyplot as plt\n",
        "import seaborn\n"
      ],
      "execution_count": 10,
      "outputs": []
    },
    {
      "cell_type": "code",
      "metadata": {
        "id": "qn4JKHAhnii6"
      },
      "source": [
        ""
      ],
      "execution_count": null,
      "outputs": []
    }
  ]
}